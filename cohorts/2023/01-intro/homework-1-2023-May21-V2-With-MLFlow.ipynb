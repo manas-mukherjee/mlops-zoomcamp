{
 "cells": [
  {
   "cell_type": "markdown",
   "id": "e94bbd78",
   "metadata": {},
   "source": [
    "# 01-Intro Homework\n",
    "NYK: Taxi data: https://www.nyc.gov/site/tlc/about/tlc-trip-record-data.page"
   ]
  },
  {
   "cell_type": "code",
   "execution_count": 1,
   "id": "fe3f1faa",
   "metadata": {},
   "outputs": [
    {
     "name": "stdout",
     "output_type": "stream",
     "text": [
      "/Users/mmukherjee/Documents/LearningAndDevelopment/DataTalksClub/mlops-zoomcamp/cohorts/2023/02-experiment-tracking/venv_02/bin/python\r\n"
     ]
    }
   ],
   "source": [
    "!which python"
   ]
  },
  {
   "cell_type": "code",
   "execution_count": 8,
   "id": "fcff6558",
   "metadata": {},
   "outputs": [],
   "source": [
    "import pandas as pd\n",
    "import pickle\n",
    "import seaborn as sns\n",
    "import matplotlib.pyplot as plt\n",
    "\n",
    "from sklearn.feature_extraction import DictVectorizer\n",
    "from sklearn.linear_model import LinearRegression\n",
    "from sklearn.linear_model import Lasso\n",
    "from sklearn.linear_model import Ridge\n",
    "from sklearn.metrics import mean_squared_error"
   ]
  },
  {
   "cell_type": "markdown",
   "id": "3d7a3dbc",
   "metadata": {},
   "source": [
    "### 1. EDA"
   ]
  },
  {
   "cell_type": "code",
   "execution_count": null,
   "id": "dbbfdf5a",
   "metadata": {},
   "outputs": [],
   "source": [
    "df = pd.read_parquet('./data/yellow_tripdata_2022-01.parquet')\n",
    "print(f\"df.shape: {df.shape}\")\n",
    "df.head(3)"
   ]
  },
  {
   "cell_type": "markdown",
   "id": "1bd58b13",
   "metadata": {},
   "source": [
    "### 2. Calculate derived column 'Duration'"
   ]
  },
  {
   "cell_type": "code",
   "execution_count": null,
   "id": "6e3b4637",
   "metadata": {},
   "outputs": [],
   "source": [
    "df['duration'] = df.tpep_dropoff_datetime - df.tpep_pickup_datetime\n",
    "df.duration = df.duration.apply(lambda td: td.total_seconds() / 60)\n",
    "# Find the standard deviation of the \"duration\"\n",
    "print(f\"Standard div of the 'duration' column: {round(df['duration'].std(),2)}\")"
   ]
  },
  {
   "cell_type": "markdown",
   "id": "aa8736a4",
   "metadata": {},
   "source": [
    "### 3. One-hot encoding using DictVectorizer"
   ]
  },
  {
   "cell_type": "code",
   "execution_count": null,
   "id": "03ee02af",
   "metadata": {},
   "outputs": [],
   "source": [
    "cat_vars = [\"PULocationID\", \"DOLocationID\"]"
   ]
  },
  {
   "cell_type": "code",
   "execution_count": null,
   "id": "114496c8",
   "metadata": {},
   "outputs": [],
   "source": [
    "df[cat_vars].astype('str').dtypes"
   ]
  },
  {
   "cell_type": "code",
   "execution_count": null,
   "id": "dba1d59c",
   "metadata": {},
   "outputs": [],
   "source": [
    "df[cat_vars] = df[cat_vars].astype(str)"
   ]
  },
  {
   "cell_type": "code",
   "execution_count": null,
   "id": "b75a219b",
   "metadata": {},
   "outputs": [],
   "source": [
    "df.dtypes"
   ]
  },
  {
   "cell_type": "markdown",
   "id": "21f55262",
   "metadata": {},
   "source": [
    "## 4. Refactoring: Reusable pipeline"
   ]
  },
  {
   "cell_type": "markdown",
   "id": "d545166a",
   "metadata": {},
   "source": [
    "#### 4.1 Read the parquet file"
   ]
  },
  {
   "cell_type": "code",
   "execution_count": 5,
   "id": "2636ed66",
   "metadata": {},
   "outputs": [],
   "source": [
    "def read_dataframe(filename):\n",
    "    print(f\"Input filename: {filename}\")\n",
    "    if filename.endswith('.csv'):\n",
    "        df = pd.read_csv(filename)\n",
    "\n",
    "        df.lpep_dropoff_datetime = pd.to_datetime(df.lpep_dropoff_datetime)\n",
    "        df.lpep_pickup_datetime = pd.to_datetime(df.lpep_pickup_datetime)\n",
    "    elif filename.endswith('.parquet'):\n",
    "        df = pd.read_parquet(filename)\n",
    "\n",
    "    df['duration'] = df.tpep_dropoff_datetime - df.tpep_pickup_datetime\n",
    "    df.duration = df.duration.apply(lambda td: td.total_seconds() / 60)\n",
    "\n",
    "    original_shape = df.shape\n",
    "    print(f\"before filtering shape: {original_shape}\")\n",
    "    df = df[(df.duration >= 1) & (df.duration <= 60)]\n",
    "    \n",
    "    modified_shape = df.shape\n",
    "    print(f\"after filtering shape: {modified_shape}\")\n",
    "    \n",
    "    left_percentage = round(modified_shape[0]*100/original_shape[0],2)\n",
    "    print(f\"Percentage of records left in df after removing outliers: {left_percentage}%\")\n",
    "    \n",
    "    categorical = [\"PULocationID\", \"DOLocationID\"] \n",
    "    df[categorical] = df[categorical].astype(str)\n",
    "    print()\n",
    "    return df"
   ]
  },
  {
   "cell_type": "code",
   "execution_count": 9,
   "id": "111790d9",
   "metadata": {},
   "outputs": [
    {
     "name": "stdout",
     "output_type": "stream",
     "text": [
      "Input filename: ./data/yellow_tripdata_2022-01.parquet\n",
      "before filtering shape: (2463931, 20)\n",
      "after filtering shape: (2421440, 20)\n",
      "Percentage of records left in df after removing outliers: 98.28%\n",
      "\n",
      "Input filename: ./data/yellow_tripdata_2022-02.parquet\n",
      "before filtering shape: (2979431, 20)\n",
      "after filtering shape: (2918187, 20)\n",
      "Percentage of records left in df after removing outliers: 97.94%\n",
      "\n",
      "shape of df_train: (2421440, 20)\n",
      "shape of df_val. : (2918187, 20)\n"
     ]
    }
   ],
   "source": [
    "df_train = read_dataframe('./data/yellow_tripdata_2022-01.parquet')\n",
    "df_val   = read_dataframe('./data/yellow_tripdata_2022-02.parquet')\n",
    "\n",
    "print(f\"shape of df_train: {df_train.shape}\")\n",
    "print(f\"shape of df_val. : {df_val.shape}\")"
   ]
  },
  {
   "cell_type": "code",
   "execution_count": 10,
   "id": "97ef94ba",
   "metadata": {},
   "outputs": [],
   "source": [
    "categorical = [\"PULocationID\", \"DOLocationID\"] "
   ]
  },
  {
   "cell_type": "code",
   "execution_count": 11,
   "id": "b3fce7ee",
   "metadata": {},
   "outputs": [],
   "source": [
    "train_dicts      = df_train[categorical].to_dict(orient=\"records\")\n",
    "validation_dicts = df_val[categorical].to_dict(orient=\"records\")"
   ]
  },
  {
   "cell_type": "markdown",
   "id": "b4439138",
   "metadata": {},
   "source": [
    "#### 4.2 Configure categorical features and output column"
   ]
  },
  {
   "cell_type": "code",
   "execution_count": 12,
   "id": "8ba6ee46",
   "metadata": {},
   "outputs": [
    {
     "data": {
      "text/plain": [
       "<2421440x515 sparse matrix of type '<class 'numpy.float64'>'\n",
       "\twith 4842880 stored elements in Compressed Sparse Row format>"
      ]
     },
     "execution_count": 12,
     "metadata": {},
     "output_type": "execute_result"
    }
   ],
   "source": [
    "dv = DictVectorizer()\n",
    "#Model's feature metrics \n",
    "X_train = dv.fit_transform(train_dicts)\n",
    "X_train"
   ]
  },
  {
   "cell_type": "code",
   "execution_count": 13,
   "id": "14b14563",
   "metadata": {},
   "outputs": [
    {
     "data": {
      "text/plain": [
       "<2918187x515 sparse matrix of type '<class 'numpy.float64'>'\n",
       "\twith 5836368 stored elements in Compressed Sparse Row format>"
      ]
     },
     "execution_count": 13,
     "metadata": {},
     "output_type": "execute_result"
    }
   ],
   "source": [
    "X_validation = dv.transform(validation_dicts)\n",
    "X_validation"
   ]
  },
  {
   "cell_type": "code",
   "execution_count": 14,
   "id": "cab628cd",
   "metadata": {},
   "outputs": [],
   "source": [
    "# target variable \n",
    "target = 'duration'\n",
    "y_train = df_train[target].values\n",
    "y_val = df_val[target].values"
   ]
  },
  {
   "cell_type": "markdown",
   "id": "4e4784d9",
   "metadata": {},
   "source": [
    "#### 4.3 Build model"
   ]
  },
  {
   "cell_type": "code",
   "execution_count": null,
   "id": "13bf50d9",
   "metadata": {},
   "outputs": [],
   "source": [
    "lr = LinearRegression()\n",
    "lr.fit(X_train, y_train)\n",
    "\n",
    "y_pred = lr.predict(X_train)\n",
    "\n",
    "train_RMSE = round(mean_squared_error(y_train, y_pred, squared=False),2)\n",
    "print(f\"Train RMSE: {train_RMSE}\")"
   ]
  },
  {
   "cell_type": "code",
   "execution_count": null,
   "id": "6a0c45c9",
   "metadata": {},
   "outputs": [],
   "source": [
    "sns.distplot(y_pred, label='prediction')\n",
    "sns.distplot(y_train, label='actual')\n",
    "\n",
    "plt.legend()"
   ]
  },
  {
   "cell_type": "code",
   "execution_count": null,
   "id": "88dd3af9",
   "metadata": {},
   "outputs": [],
   "source": [
    "y_val_pred = lr.predict(X_validation)\n",
    "\n",
    "validation_RMSE = round(mean_squared_error(y_val, y_val_pred, squared=False),2)\n",
    "print(f\"Validation RMSE: {validation_RMSE}\")"
   ]
  },
  {
   "cell_type": "code",
   "execution_count": null,
   "id": "bc1eab4f",
   "metadata": {},
   "outputs": [],
   "source": [
    "sns.distplot(y_val_pred, label='prediction')\n",
    "sns.distplot(y_val, label='actual')\n",
    "\n",
    "plt.legend()"
   ]
  },
  {
   "cell_type": "markdown",
   "id": "a4adc71d",
   "metadata": {},
   "source": [
    "### 5. Experiment Tracking using MLFlow"
   ]
  },
  {
   "cell_type": "code",
   "execution_count": 19,
   "id": "c5c64d6b",
   "metadata": {},
   "outputs": [
    {
     "name": "stdout",
     "output_type": "stream",
     "text": [
      "/Users/mmukherjee/Documents/LearningAndDevelopment/DataTalksClub/mlops-zoomcamp/cohorts/2023/02-experiment-tracking/venv_02/bin/mlflow\r\n"
     ]
    }
   ],
   "source": [
    "!which mlflow"
   ]
  },
  {
   "cell_type": "code",
   "execution_count": 15,
   "id": "973b8b97",
   "metadata": {},
   "outputs": [],
   "source": [
    "import mlflow"
   ]
  },
  {
   "cell_type": "code",
   "execution_count": 16,
   "id": "6733a251",
   "metadata": {},
   "outputs": [],
   "source": [
    "mlflow.set_tracking_uri(\"sqlite:///mlflow.db\")"
   ]
  },
  {
   "cell_type": "code",
   "execution_count": 17,
   "id": "7dd4022c",
   "metadata": {},
   "outputs": [
    {
     "data": {
      "text/plain": [
       "<Experiment: artifact_location='/Users/mmukherjee/Documents/LearningAndDevelopment/DataTalksClub/mlops-zoomcamp/cohorts/2023/02-experiment-tracking/mlruns/1', creation_time=1684689271824, experiment_id='1', last_update_time=1684689271824, lifecycle_stage='active', name='yellow-taxi-exp', tags={}>"
      ]
     },
     "execution_count": 17,
     "metadata": {},
     "output_type": "execute_result"
    }
   ],
   "source": [
    "mlflow.set_experiment(\"yellow-taxi-exp\")"
   ]
  },
  {
   "cell_type": "code",
   "execution_count": 20,
   "id": "9868fcbd",
   "metadata": {},
   "outputs": [
    {
     "name": "stdout",
     "output_type": "stream",
     "text": [
      "Train RMSE: 6.99\n"
     ]
    }
   ],
   "source": [
    "with mlflow.start_run():\n",
    "    mlflow.set_tag(\"Developer\", \"Manas\")\n",
    "    mlflow.log_param(\"dataset\", \"'./data/yellow_tripdata_2022-01.parquet'\")\n",
    "    mlflow.log_param(\"model-algo\", \"LinearRegression\")\n",
    "    \n",
    "    lr = LinearRegression()\n",
    "    lr.fit(X_train, y_train)\n",
    "\n",
    "    y_pred = lr.predict(X_train)\n",
    "\n",
    "    train_RMSE = round(mean_squared_error(y_train, y_pred, squared=False),2)\n",
    "    print(f\"Train RMSE: {train_RMSE}\")\n",
    "    mlflow.log_metric(\"train_RMSE\", train_RMSE)"
   ]
  },
  {
   "cell_type": "code",
   "execution_count": 21,
   "id": "c4cb1570",
   "metadata": {},
   "outputs": [
    {
     "name": "stdout",
     "output_type": "stream",
     "text": [
      "Train RMSE: 7.33\n"
     ]
    }
   ],
   "source": [
    "with mlflow.start_run():\n",
    "    mlflow.set_tag(\"Developer\", \"Manas\")\n",
    "    mlflow.log_param(\"dataset\", \"'./data/yellow_tripdata_2022-01.parquet'\")\n",
    "    mlflow.log_param(\"model-algo\", \"Lasso\")\n",
    "    \n",
    "    alpha = 0.01\n",
    "    lr = Lasso(alpha)\n",
    "    lr.fit(X_train, y_train)\n",
    "\n",
    "    y_pred = lr.predict(X_train)\n",
    "\n",
    "    train_RMSE = round(mean_squared_error(y_train, y_pred, squared=False),2)\n",
    "    print(f\"Train RMSE: {train_RMSE}\")\n",
    "    mlflow.log_metric(\"train_RMSE\", train_RMSE)"
   ]
  },
  {
   "cell_type": "code",
   "execution_count": null,
   "id": "7163fd6f",
   "metadata": {},
   "outputs": [],
   "source": []
  }
 ],
 "metadata": {
  "kernelspec": {
   "display_name": "venv_02",
   "language": "python",
   "name": "venv_02"
  },
  "language_info": {
   "codemirror_mode": {
    "name": "ipython",
    "version": 3
   },
   "file_extension": ".py",
   "mimetype": "text/x-python",
   "name": "python",
   "nbconvert_exporter": "python",
   "pygments_lexer": "ipython3",
   "version": "3.9.16"
  }
 },
 "nbformat": 4,
 "nbformat_minor": 5
}
