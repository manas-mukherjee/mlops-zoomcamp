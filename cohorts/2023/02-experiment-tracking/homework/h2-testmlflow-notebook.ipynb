{
 "cells": [
  {
   "cell_type": "code",
   "execution_count": 14,
   "id": "fc38df96",
   "metadata": {},
   "outputs": [],
   "source": [
    "import mlflow\n",
    "from mlflow.tracking import MlflowClient\n",
    "from mlflow.entities import ViewType"
   ]
  },
  {
   "cell_type": "code",
   "execution_count": 4,
   "id": "4c9c7029",
   "metadata": {},
   "outputs": [
    {
     "data": {
      "text/plain": [
       "<Experiment: artifact_location='/Users/mmukherjee/Documents/LearningAndDevelopment/DataTalksClub/mlops-zoomcamp/cohorts/2023/02-experiment-tracking/homework/hw2-artifacts/4', creation_time=1684858857467, experiment_id='4', last_update_time=1684858857467, lifecycle_stage='active', name='random-forest-hyperopt-hw2', tags={}>"
      ]
     },
     "execution_count": 4,
     "metadata": {},
     "output_type": "execute_result"
    }
   ],
   "source": [
    "mlflow.set_tracking_uri(\"http://127.0.0.1:5000\")\n",
    "mlflow.set_experiment(\"random-forest-hyperopt-hw2\")"
   ]
  },
  {
   "cell_type": "code",
   "execution_count": 89,
   "id": "da7932db",
   "metadata": {},
   "outputs": [],
   "source": [
    "experiment = mlflow.get_experiment_by_name(\"random-forest-hyperopt\")"
   ]
  },
  {
   "cell_type": "code",
   "execution_count": 90,
   "id": "c5969954",
   "metadata": {},
   "outputs": [
    {
     "data": {
      "text/plain": [
       "'5'"
      ]
     },
     "execution_count": 90,
     "metadata": {},
     "output_type": "execute_result"
    }
   ],
   "source": [
    "experiment.experiment_id"
   ]
  },
  {
   "cell_type": "code",
   "execution_count": 91,
   "id": "9757edda",
   "metadata": {},
   "outputs": [],
   "source": [
    "client = MlflowClient()"
   ]
  },
  {
   "cell_type": "code",
   "execution_count": 92,
   "id": "3fe19e51",
   "metadata": {},
   "outputs": [],
   "source": [
    "runs = client.search_runs(\n",
    "        experiment_ids=experiment.experiment_id,\n",
    "        run_view_type=ViewType.ACTIVE_ONLY,\n",
    "        max_results=5,\n",
    "        order_by=[\"metrics.validation_RMSE ASC\"]\n",
    "    )"
   ]
  },
  {
   "cell_type": "code",
   "execution_count": 107,
   "id": "a439ed6a",
   "metadata": {},
   "outputs": [],
   "source": [
    "HPO_EXPERIMENT_NAME = \"random-forest-hyperopt\"\n",
    "top_n = 5\n",
    "experiment = client.get_experiment_by_name(HPO_EXPERIMENT_NAME)\n",
    "runs = client.search_runs(\n",
    "    experiment_ids=experiment.experiment_id,\n",
    "    run_view_type=ViewType.ACTIVE_ONLY,\n",
    "    max_results=top_n,\n",
    "    order_by=[\"metrics.validation_RMSE ASC\"]\n",
    ")"
   ]
  },
  {
   "cell_type": "code",
   "execution_count": 112,
   "id": "2262190a",
   "metadata": {},
   "outputs": [
    {
     "name": "stdout",
     "output_type": "stream",
     "text": [
      "0. rid: 9c8920bdd6e3423bb0e06a7703020531, rname: awesome-lark-606, rmse: 2.45\n",
      "params: {'n_estimators': '34', 'max_depth': '15', 'min_samples_split': '2', 'min_samples_leaf': '4', 'random_state': '42', 'n_jobs': '-1'}\n",
      "-------------------\n",
      "1. rid: a23914763620454f88492d8300c3576c, rname: dashing-tern-16, rmse: 2.451\n",
      "params: {'n_estimators': '25', 'max_depth': '20', 'min_samples_split': '8', 'min_samples_leaf': '3', 'random_state': '42', 'n_jobs': '-1'}\n",
      "-------------------\n",
      "2. rid: 5c44b93ef33b4dfba4232c864d467db7, rname: placid-seal-345, rmse: 2.452\n",
      "params: {'n_estimators': '28', 'max_depth': '16', 'min_samples_split': '3', 'min_samples_leaf': '3', 'random_state': '42', 'n_jobs': '-1'}\n",
      "-------------------\n",
      "3. rid: 51b90335a91a4a42a1b156547b72c597, rname: kindly-whale-362, rmse: 2.454\n",
      "params: {'n_estimators': '22', 'max_depth': '11', 'min_samples_split': '5', 'min_samples_leaf': '2', 'random_state': '42', 'n_jobs': '-1'}\n",
      "-------------------\n",
      "4. rid: ee7f0e9078c24efea68e8e7fb54eba1f, rname: learned-ray-881, rmse: 2.456\n",
      "params: {'n_estimators': '12', 'max_depth': '19', 'min_samples_split': '10', 'min_samples_leaf': '4', 'random_state': '42', 'n_jobs': '-1'}\n",
      "-------------------\n"
     ]
    }
   ],
   "source": [
    "for sl_id, run in enumerate(runs):\n",
    "    print(f\"{sl_id}. rid: {run.info.run_id}, rname: {run.info.run_name}, rmse: {round(run.data.metrics['validation_RMSE'],3)}\")\n",
    "    print(f\"params: {run.data.params}\")\n",
    "    print(\"-------------------\")"
   ]
  },
  {
   "cell_type": "code",
   "execution_count": 128,
   "id": "69743398",
   "metadata": {},
   "outputs": [],
   "source": [
    "import os\n",
    "import pickle\n",
    "import click\n",
    "import mlflow\n",
    "\n",
    "from mlflow.entities import ViewType\n",
    "from mlflow.tracking import MlflowClient\n",
    "from sklearn.ensemble import RandomForestRegressor\n",
    "from sklearn.metrics import mean_squared_error\n",
    "\n",
    "def load_pickle(filename):\n",
    "    with open(filename, \"rb\") as f_in:\n",
    "        return pickle.load(f_in)"
   ]
  },
  {
   "cell_type": "code",
   "execution_count": 135,
   "id": "86f3d42f",
   "metadata": {},
   "outputs": [],
   "source": [
    "def train_and_log_model(data_path, params):\n",
    "    X_train, y_train = load_pickle(os.path.join(data_path, \"train.pkl\"))\n",
    "    X_val, y_val = load_pickle(os.path.join(data_path, \"val.pkl\"))\n",
    "    X_test, y_test = load_pickle(os.path.join(data_path, \"test.pkl\"))\n",
    "\n",
    "#     with mlflow.start_run():\n",
    "    for param in RF_PARAMS:\n",
    "        params[param] = int(params[param])\n",
    "\n",
    "    rf = RandomForestRegressor(**params)\n",
    "    rf.fit(X_train, y_train)\n",
    "\n",
    "    # Evaluate model on the validation and test sets\n",
    "    val_rmse = mean_squared_error(y_val, rf.predict(X_val), squared=False)\n",
    "#     mlflow.log_metric(\"val_rmse\", val_rmse)\n",
    "    \n",
    "    test_rmse = mean_squared_error(y_test, rf.predict(X_test), squared=False)\n",
    "#     mlflow.log_metric(\"test_rmse\", test_rmse)\n",
    "    print(f\"val_rmse: {round(val_rmse,3)}, test_rmse: {round(test_rmse,3)}\")"
   ]
  },
  {
   "cell_type": "code",
   "execution_count": 121,
   "id": "9e44fda9",
   "metadata": {},
   "outputs": [
    {
     "data": {
      "text/plain": [
       "(59603, 6683)"
      ]
     },
     "execution_count": 121,
     "metadata": {},
     "output_type": "execute_result"
    }
   ],
   "source": [
    "data_path = \"../data/output\"\n",
    "X_train, y_train = load_pickle(os.path.join(data_path, \"train.pkl\"))\n",
    "X_train.shape"
   ]
  },
  {
   "cell_type": "code",
   "execution_count": 122,
   "id": "85555ffd",
   "metadata": {},
   "outputs": [],
   "source": [
    "r0 = runs[0]"
   ]
  },
  {
   "cell_type": "code",
   "execution_count": 124,
   "id": "45acc959",
   "metadata": {},
   "outputs": [
    {
     "data": {
      "text/plain": [
       "{'n_estimators': '34',\n",
       " 'max_depth': '15',\n",
       " 'min_samples_split': '2',\n",
       " 'min_samples_leaf': '4',\n",
       " 'random_state': '42',\n",
       " 'n_jobs': '-1'}"
      ]
     },
     "execution_count": 124,
     "metadata": {},
     "output_type": "execute_result"
    }
   ],
   "source": [
    "r0.data.params"
   ]
  },
  {
   "cell_type": "code",
   "execution_count": 136,
   "id": "43ebb215",
   "metadata": {},
   "outputs": [
    {
     "name": "stdout",
     "output_type": "stream",
     "text": [
      "0. rid: 9c8920bdd6e3423bb0e06a7703020531, rname: awesome-lark-606, rmse: 2.45\n",
      "params: {'n_estimators': 34, 'max_depth': 15, 'min_samples_split': 2, 'min_samples_leaf': 4, 'random_state': 42, 'n_jobs': -1}\n",
      "val_rmse: 2.45, test_rmse: 2.285\n",
      "-------------------\n",
      "1. rid: a23914763620454f88492d8300c3576c, rname: dashing-tern-16, rmse: 2.451\n",
      "params: {'n_estimators': 25, 'max_depth': 20, 'min_samples_split': 8, 'min_samples_leaf': 3, 'random_state': 42, 'n_jobs': -1}\n",
      "val_rmse: 2.451, test_rmse: 2.295\n",
      "-------------------\n",
      "2. rid: 5c44b93ef33b4dfba4232c864d467db7, rname: placid-seal-345, rmse: 2.452\n",
      "params: {'n_estimators': 28, 'max_depth': 16, 'min_samples_split': 3, 'min_samples_leaf': 3, 'random_state': 42, 'n_jobs': -1}\n",
      "val_rmse: 2.452, test_rmse: 2.292\n",
      "-------------------\n",
      "3. rid: 51b90335a91a4a42a1b156547b72c597, rname: kindly-whale-362, rmse: 2.454\n",
      "params: {'n_estimators': 22, 'max_depth': 11, 'min_samples_split': 5, 'min_samples_leaf': 2, 'random_state': 42, 'n_jobs': -1}\n",
      "val_rmse: 2.454, test_rmse: 2.299\n",
      "-------------------\n",
      "4. rid: ee7f0e9078c24efea68e8e7fb54eba1f, rname: learned-ray-881, rmse: 2.456\n",
      "params: {'n_estimators': 12, 'max_depth': 19, 'min_samples_split': 10, 'min_samples_leaf': 4, 'random_state': 42, 'n_jobs': -1}\n",
      "val_rmse: 2.456, test_rmse: 2.291\n",
      "-------------------\n"
     ]
    }
   ],
   "source": [
    "for sl_id, run in enumerate(runs):\n",
    "    print(f\"{sl_id}. rid: {run.info.run_id}, rname: {run.info.run_name}, rmse: {round(run.data.metrics['validation_RMSE'],3)}\")\n",
    "    print(f\"params: {run.data.params}\")\n",
    "    train_and_log_model(data_path, run.data.params)\n",
    "    print(\"-------------------\")\n",
    "    "
   ]
  },
  {
   "cell_type": "code",
   "execution_count": 94,
   "id": "da995429",
   "metadata": {},
   "outputs": [],
   "source": [
    "r0 = runs[0]"
   ]
  },
  {
   "cell_type": "code",
   "execution_count": 95,
   "id": "3d1fcd90",
   "metadata": {},
   "outputs": [
    {
     "data": {
      "text/plain": [
       "<RunInfo: artifact_uri='/Users/mmukherjee/Documents/LearningAndDevelopment/DataTalksClub/mlops-zoomcamp/cohorts/2023/02-experiment-tracking/homework/hw2-artifacts/5/9c8920bdd6e3423bb0e06a7703020531/artifacts', end_time=1684923289112, experiment_id='5', lifecycle_stage='active', run_id='9c8920bdd6e3423bb0e06a7703020531', run_name='awesome-lark-606', run_uuid='9c8920bdd6e3423bb0e06a7703020531', start_time=1684923288374, status='FINISHED', user_id='mmukherjee'>"
      ]
     },
     "execution_count": 95,
     "metadata": {},
     "output_type": "execute_result"
    }
   ],
   "source": [
    "r0.info"
   ]
  },
  {
   "cell_type": "code",
   "execution_count": 96,
   "id": "959e7d4f",
   "metadata": {},
   "outputs": [
    {
     "data": {
      "text/plain": [
       "<RunData: metrics={'validation_RMSE': 2.449827329704216}, params={'max_depth': '15',\n",
       " 'min_samples_leaf': '4',\n",
       " 'min_samples_split': '2',\n",
       " 'n_estimators': '34',\n",
       " 'n_jobs': '-1',\n",
       " 'random_state': '42'}, tags={'mlflow.runName': 'awesome-lark-606',\n",
       " 'mlflow.source.git.commit': '843cbc1ee15d3c1b40d9a95ff76e559d7bcfa67b',\n",
       " 'mlflow.source.name': 'hpo.py',\n",
       " 'mlflow.source.type': 'LOCAL',\n",
       " 'mlflow.user': 'mmukherjee'}>"
      ]
     },
     "execution_count": 96,
     "metadata": {},
     "output_type": "execute_result"
    }
   ],
   "source": [
    "r0.data"
   ]
  },
  {
   "cell_type": "code",
   "execution_count": 97,
   "id": "7c135dfa",
   "metadata": {},
   "outputs": [
    {
     "data": {
      "text/plain": [
       "{'n_estimators': '34',\n",
       " 'max_depth': '15',\n",
       " 'min_samples_split': '2',\n",
       " 'min_samples_leaf': '4',\n",
       " 'random_state': '42',\n",
       " 'n_jobs': '-1'}"
      ]
     },
     "execution_count": 97,
     "metadata": {},
     "output_type": "execute_result"
    }
   ],
   "source": [
    "r0.data.params"
   ]
  },
  {
   "cell_type": "code",
   "execution_count": 98,
   "id": "0eb5f386",
   "metadata": {},
   "outputs": [
    {
     "data": {
      "text/plain": [
       "{'validation_RMSE': 2.449827329704216}"
      ]
     },
     "execution_count": 98,
     "metadata": {},
     "output_type": "execute_result"
    }
   ],
   "source": [
    "r0.data.metrics"
   ]
  },
  {
   "cell_type": "code",
   "execution_count": 71,
   "id": "d241fd05",
   "metadata": {},
   "outputs": [],
   "source": [
    "client.restore_experiment(3)"
   ]
  },
  {
   "cell_type": "code",
   "execution_count": 68,
   "id": "6216df0e",
   "metadata": {},
   "outputs": [
    {
     "name": "stdout",
     "output_type": "stream",
     "text": [
      "Usage: mlflow experiments restore [OPTIONS]\r\n",
      "\r\n",
      "  Restore a deleted experiment. This also applies to experiment's metadata,\r\n",
      "  runs and associated data. The command throws an error if the experiment is\r\n",
      "  already active, cannot be found, or permanently deleted.\r\n",
      "\r\n",
      "Options:\r\n",
      "  -x, --experiment-id TEXT  [required]\r\n",
      "  --help                    Show this message and exit.\r\n"
     ]
    }
   ],
   "source": [
    "# !mlflow experiments restore --experiment-id 3"
   ]
  },
  {
   "cell_type": "code",
   "execution_count": 85,
   "id": "5b8e991c",
   "metadata": {},
   "outputs": [],
   "source": [
    "deleted_experiment = mlflow.get_experiment_by_name(\"random-forest-hyperopt\")"
   ]
  },
  {
   "cell_type": "code",
   "execution_count": 86,
   "id": "586cb018",
   "metadata": {},
   "outputs": [
    {
     "data": {
      "text/plain": [
       "<Experiment: artifact_location='/Users/mmukherjee/Documents/LearningAndDevelopment/DataTalksClub/mlops-zoomcamp/cohorts/2023/02-experiment-tracking/homework/hw2-artifacts/5', creation_time=1684923287228, experiment_id='5', last_update_time=1684923287228, lifecycle_stage='active', name='random-forest-hyperopt', tags={}>"
      ]
     },
     "execution_count": 86,
     "metadata": {},
     "output_type": "execute_result"
    }
   ],
   "source": [
    "deleted_experiment"
   ]
  },
  {
   "cell_type": "code",
   "execution_count": 99,
   "id": "0440e91d",
   "metadata": {},
   "outputs": [
    {
     "data": {
      "text/plain": [
       "{'n_estimators': '34',\n",
       " 'max_depth': '15',\n",
       " 'min_samples_split': '2',\n",
       " 'min_samples_leaf': '4',\n",
       " 'random_state': '42',\n",
       " 'n_jobs': '-1'}"
      ]
     },
     "execution_count": 99,
     "metadata": {},
     "output_type": "execute_result"
    }
   ],
   "source": [
    "params = r0.data.params\n",
    "params"
   ]
  },
  {
   "cell_type": "code",
   "execution_count": 100,
   "id": "1c156b35",
   "metadata": {},
   "outputs": [],
   "source": [
    "RF_PARAMS = ['max_depth', 'n_estimators', 'min_samples_split', 'min_samples_leaf', 'random_state', 'n_jobs']"
   ]
  },
  {
   "cell_type": "code",
   "execution_count": 103,
   "id": "079409d8",
   "metadata": {},
   "outputs": [],
   "source": [
    "for param in RF_PARAMS:\n",
    "    params[param] = int(params[param])"
   ]
  },
  {
   "cell_type": "code",
   "execution_count": 104,
   "id": "faa70a94",
   "metadata": {},
   "outputs": [
    {
     "data": {
      "text/plain": [
       "{'n_estimators': 34,\n",
       " 'max_depth': 15,\n",
       " 'min_samples_split': 2,\n",
       " 'min_samples_leaf': 4,\n",
       " 'random_state': 42,\n",
       " 'n_jobs': -1}"
      ]
     },
     "execution_count": 104,
     "metadata": {},
     "output_type": "execute_result"
    }
   ],
   "source": [
    "params"
   ]
  },
  {
   "cell_type": "code",
   "execution_count": 88,
   "id": "3943adaa",
   "metadata": {},
   "outputs": [
    {
     "data": {
      "text/plain": [
       "<Experiment: artifact_location='/Users/mmukherjee/Documents/LearningAndDevelopment/DataTalksClub/mlops-zoomcamp/cohorts/2023/02-experiment-tracking/homework/hw2-artifacts/5', creation_time=1684923287228, experiment_id='5', last_update_time=1684923287228, lifecycle_stage='active', name='random-forest-hyperopt', tags={}>"
      ]
     },
     "execution_count": 88,
     "metadata": {},
     "output_type": "execute_result"
    }
   ],
   "source": [
    "mlflow.get_experiment_by_name(\"random-forest-hyperopt\")\n"
   ]
  },
  {
   "cell_type": "code",
   "execution_count": 105,
   "id": "4d91ee7c",
   "metadata": {},
   "outputs": [
    {
     "data": {
      "text/plain": [
       "5"
      ]
     },
     "execution_count": 105,
     "metadata": {},
     "output_type": "execute_result"
    }
   ],
   "source": [
    "len(runs)"
   ]
  },
  {
   "cell_type": "markdown",
   "id": "c69d39d6",
   "metadata": {},
   "source": [
    "\"\"\"\n",
    "to register the model you can use the method mlflow.register_model and \n",
    "you will need to pass the right model_uri in the form of a string that looks like this: \"runs:/<RUN_ID>/model\", \n",
    "and the name of the model (make sure to choose a good one!).\n",
    "\"\"\""
   ]
  },
  {
   "cell_type": "code",
   "execution_count": null,
   "id": "8d8fdfb0",
   "metadata": {},
   "outputs": [],
   "source": [
    "mlflow.register_model(register_model=f\"runs:/{run_id}/model\", name=\"best-model-rf-hw2\")"
   ]
  }
 ],
 "metadata": {
  "kernelspec": {
   "display_name": "venv_02",
   "language": "python",
   "name": "venv_02"
  },
  "language_info": {
   "codemirror_mode": {
    "name": "ipython",
    "version": 3
   },
   "file_extension": ".py",
   "mimetype": "text/x-python",
   "name": "python",
   "nbconvert_exporter": "python",
   "pygments_lexer": "ipython3",
   "version": "3.9.16"
  }
 },
 "nbformat": 4,
 "nbformat_minor": 5
}
