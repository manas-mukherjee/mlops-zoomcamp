{
 "cells": [
  {
   "cell_type": "code",
   "execution_count": 49,
   "id": "2c51efaa",
   "metadata": {},
   "outputs": [
    {
     "name": "stdout",
     "output_type": "stream",
     "text": [
      "scikit-learn==1.2.2\r\n"
     ]
    }
   ],
   "source": [
    "!pip freeze | grep scikit-learn"
   ]
  },
  {
   "cell_type": "code",
   "execution_count": 50,
   "id": "0ef880a0",
   "metadata": {},
   "outputs": [],
   "source": [
    "import pickle\n",
    "import pandas as pd\n",
    "import numpy as np"
   ]
  },
  {
   "cell_type": "markdown",
   "id": "c9e0bfc1",
   "metadata": {},
   "source": [
    "## Parameters"
   ]
  },
  {
   "cell_type": "code",
   "execution_count": 51,
   "id": "45018c8f",
   "metadata": {},
   "outputs": [],
   "source": [
    "year = 2022\n",
    "month = 2\n",
    "input_file = f\"https://d37ci6vzurychx.cloudfront.net/trip-data/yellow_tripdata_{year:04d}-{month:02d}.parquet\"\n",
    "output_file = f\"output/yellow_tripdata_{year:04d}-{month:02d}.parquet\""
   ]
  },
  {
   "cell_type": "code",
   "execution_count": 52,
   "id": "7836ccfd",
   "metadata": {},
   "outputs": [],
   "source": [
    "def load_model(model_file_name):\n",
    "    with open(model_file_name, 'rb') as f_in:\n",
    "        dv, model = pickle.load(f_in)\n",
    "    return dv, model"
   ]
  },
  {
   "cell_type": "code",
   "execution_count": 53,
   "id": "c89dfc9d",
   "metadata": {},
   "outputs": [],
   "source": [
    "def read_data(filename):\n",
    "    df = pd.read_parquet(filename)\n",
    "    \n",
    "    df['duration'] = df.tpep_dropoff_datetime - df.tpep_pickup_datetime\n",
    "    df['duration'] = df.duration.dt.total_seconds() / 60\n",
    "\n",
    "    df = df[(df.duration >= 1) & (df.duration <= 60)].copy()\n",
    "\n",
    "    categorical = ['PULocationID', 'DOLocationID']\n",
    "    df[categorical] = df[categorical].fillna(-1).astype('int').astype('str')\n",
    "    \n",
    "    return df"
   ]
  },
  {
   "cell_type": "code",
   "execution_count": 54,
   "id": "2a552a7b",
   "metadata": {},
   "outputs": [],
   "source": [
    "def prepare_dictionary(df):\n",
    "    categorical = ['PULocationID', 'DOLocationID']\n",
    "    dicts = df[categorical].to_dict(orient='records')\n",
    "    return dicts"
   ]
  },
  {
   "cell_type": "code",
   "execution_count": 68,
   "id": "2b91a185",
   "metadata": {},
   "outputs": [],
   "source": [
    "def apply_model(input_file, model, output_file):\n",
    "    print(\"apply model\")\n",
    "    df = read_data(input_file)\n",
    "    print(df.shape)\n",
    "    dicts = prepare_dictionary(df)\n",
    "    \n",
    "    dv, model = load_model(model)\n",
    "    \n",
    "    X_val = dv.transform(dicts)\n",
    "    y_pred = model.predict(X_val)\n",
    "    print(f\"Prediction stdiv: {np.std(y_pred)}\")\n",
    "    \n",
    "    ride_id = f'{year:04d}/{month:02d}_' + df.index.astype('str')\n",
    "    df_result = pd.DataFrame({'ride_id': ride_id, 'prediction':y_pred})\n",
    "    \n",
    "    print(df_result.head(5))\n",
    "    print(output_file)\n",
    "    \n",
    "    df_result.to_parquet(\n",
    "        output_file,\n",
    "        engine='pyarrow',\n",
    "        compression=None,\n",
    "        index=False\n",
    "    )\n",
    "    print(\"completed\")"
   ]
  },
  {
   "cell_type": "code",
   "execution_count": 71,
   "id": "8b9b3019",
   "metadata": {},
   "outputs": [
    {
     "name": "stdout",
     "output_type": "stream",
     "text": [
      "apply model\n",
      "(2918187, 20)\n",
      "Prediction stdiv: 5.28140357655334\n",
      "     ride_id  prediction\n",
      "0  2022/02_0   18.527783\n",
      "1  2022/02_1   23.065782\n",
      "2  2022/02_2   33.686359\n",
      "3  2022/02_3   23.757436\n",
      "4  2022/02_4   21.492904\n",
      "output/yellow_tripdata_2022-02.parquet\n",
      "completed\n"
     ]
    }
   ],
   "source": [
    "apply_model(input_file, \"model.bin\", output_file)"
   ]
  },
  {
   "cell_type": "code",
   "execution_count": 72,
   "id": "1b5ed603",
   "metadata": {},
   "outputs": [],
   "source": [
    "params = {'year': year, 'month': month}"
   ]
  },
  {
   "cell_type": "code",
   "execution_count": 74,
   "id": "d317de7a",
   "metadata": {},
   "outputs": [
    {
     "data": {
      "text/plain": [
       "2022"
      ]
     },
     "execution_count": 74,
     "metadata": {},
     "output_type": "execute_result"
    }
   ],
   "source": [
    "params['year']"
   ]
  },
  {
   "cell_type": "code",
   "execution_count": null,
   "id": "1c0449ea",
   "metadata": {},
   "outputs": [],
   "source": []
  }
 ],
 "metadata": {
  "kernelspec": {
   "display_name": "venv_deployment",
   "language": "python",
   "name": "venv_deployment"
  },
  "language_info": {
   "codemirror_mode": {
    "name": "ipython",
    "version": 3
   },
   "file_extension": ".py",
   "mimetype": "text/x-python",
   "name": "python",
   "nbconvert_exporter": "python",
   "pygments_lexer": "ipython3",
   "version": "3.9.16"
  }
 },
 "nbformat": 4,
 "nbformat_minor": 5
}
